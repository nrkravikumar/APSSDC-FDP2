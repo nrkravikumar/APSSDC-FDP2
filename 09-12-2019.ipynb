{
 "cells": [
  {
   "cell_type": "markdown",
   "metadata": {},
   "source": [
    "## First Day\n",
    "____\n",
    "+ Features and Applications of Python\n",
    "+ Python installation\n",
    "    + Downloaded the python software\n",
    "    + Install Python by double click on it.\n",
    "        + Setting up the path\n",
    "        \n",
    "        `a+b`\n",
    " \n",
    "<img src=\"logo.png\" alt=\"python\" >"
   ]
  },
  {
   "cell_type": "code",
   "execution_count": null,
   "metadata": {},
   "outputs": [],
   "source": []
  }
 ],
 "metadata": {
  "kernelspec": {
   "display_name": "Python 3",
   "language": "python",
   "name": "python3"
  },
  "language_info": {
   "codemirror_mode": {
    "name": "ipython",
    "version": 3
   },
   "file_extension": ".py",
   "mimetype": "text/x-python",
   "name": "python",
   "nbconvert_exporter": "python",
   "pygments_lexer": "ipython3",
   "version": "3.7.4"
  }
 },
 "nbformat": 4,
 "nbformat_minor": 2
}
