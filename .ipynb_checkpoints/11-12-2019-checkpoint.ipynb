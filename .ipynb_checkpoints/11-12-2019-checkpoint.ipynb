{
 "cells": [
  {
   "cell_type": "markdown",
   "metadata": {},
   "source": [
    "## Conditional Statements\n",
    "    - To Check whether given condition is either True or False\n",
    "    \n",
    "    - if -> Checks only for single case\n",
    "        - Syntax:\n",
    "            if (condition):\n",
    "                //stmnts\n",
    "            \n",
    "    - if-else -> Checks for 2 cases\n",
    "        - Syntax:\n",
    "            if (condition):\n",
    "                //stmnts\n",
    "            else:\n",
    "                //stmnts\n",
    "                \n",
    "    - Nested if -> If first condition is True it checks for inner of if or if-else or it return the else part\n",
    "        -Syntax:\n",
    "            if (condition1):\n",
    "                //stmnts\n",
    "                if(condition2):\n",
    "                    //stmnts\n",
    "                else:\n",
    "                    //stmnts\n",
    "            else:\n",
    "                //stmnts\n",
    "                \n",
    "    - elif -> Checks for n number of cases\n",
    "        -Syntax:\n",
    "            if (condition1):\n",
    "                //stmnts\n",
    "            elif (condition2):\n",
    "                //stmnts\n",
    "            elif (condition3):\n",
    "                //stmnts\n",
    "                |\n",
    "                |\n",
    "                |\n",
    "            else:\n",
    "                //stmnts"
   ]
  },
  {
   "cell_type": "code",
   "execution_count": 2,
   "metadata": {},
   "outputs": [
    {
     "name": "stdout",
     "output_type": "stream",
     "text": [
      "b is big number\n",
      "a is big value\n"
     ]
    }
   ],
   "source": [
    "a = 10\n",
    "b = 20\n",
    "if a<b:\n",
    "    print('b is big number')\n",
    "print('a is big value')"
   ]
  },
  {
   "cell_type": "code",
   "execution_count": 4,
   "metadata": {},
   "outputs": [
    {
     "name": "stdout",
     "output_type": "stream",
     "text": [
      "enter a value674\n",
      "enter b value4855\n",
      "enter c value8475\n",
      "c is higher\n"
     ]
    }
   ],
   "source": [
    "a = int(input(\"enter a value\"))\n",
    "b = int(input(\"enter b value\"))\n",
    "c = int(input(\"enter c value\"))\n",
    "if a>b and a>c:\n",
    "    print('{} is higher number '.format(a))\n",
    "elif b>c:\n",
    "    print('{} is higher number '.format(b))\n",
    "else:\n",
    "      print(\"{} is higher \".format(c))\n",
    "        \n",
    "    "
   ]
  },
  {
   "cell_type": "code",
   "execution_count": 6,
   "metadata": {},
   "outputs": [
    {
     "name": "stdout",
     "output_type": "stream",
     "text": [
      "enter number65786\n",
      "even number\n"
     ]
    }
   ],
   "source": [
    "n = int(input('enter number'))\n",
    "if n%2 == 0:\n",
    "    print('even number')\n",
    "else:\n",
    "    print('odd number')"
   ]
  },
  {
   "cell_type": "markdown",
   "metadata": {},
   "source": [
    "```\n",
    "Task-1:\n",
    "    username: raju \n",
    "    password: raju123\n",
    "    \n",
    "    Testcase-1:\n",
    "    Input: Enter Username: rajesh\n",
    "           Enter Password: raju \n",
    "    Output: Invalid Username rajesh or Password\n",
    "        \n",
    "    Testcase-2:\n",
    "    Input: Enter Username: raju\n",
    "           Enter Password: rajesh\n",
    "    Ouput: Invalid Username raju or Password\n",
    "    \n",
    "    Testcase-3:\n",
    "    Input: Enter Username: raju\n",
    "           Enter Password: raju123\n",
    "    Output:Welcome User: raju\n",
    "  ```"
   ]
  },
  {
   "cell_type": "code",
   "execution_count": 9,
   "metadata": {},
   "outputs": [
    {
     "name": "stdout",
     "output_type": "stream",
     "text": [
      "Enter Username: raju\n",
      "Enter Password: raju123\n",
      "Welcome User: raju\n"
     ]
    }
   ],
   "source": [
    "username = input(\"Enter Username: \")\n",
    "password = input(\"Enter Password: \")\n",
    "if username == 'raju':\n",
    "    if password == 'raju123':\n",
    "        print(\"Welcome User: {}\".format(username))\n",
    "    else:\n",
    "        print(\"Invalid Username {} or Password\".format(username))\n",
    "else:\n",
    "    print(\"Invalid Username {} or Password\".format(username))"
   ]
  },
  {
   "cell_type": "code",
   "execution_count": 10,
   "metadata": {},
   "outputs": [
    {
     "name": "stdout",
     "output_type": "stream",
     "text": [
      "Enter Username: raju\n",
      "Enter Password: rajesh\n",
      "Invalid Username raju or Password\n"
     ]
    }
   ],
   "source": [
    "username = input(\"Enter Username: \")\n",
    "password = input(\"Enter Password: \")\n",
    "if username == 'raju' and password == 'raju123':\n",
    "    print(\"Welcome User: {}\".format(username))\n",
    "else:\n",
    "    print(\"Invalid Username {} or Password\".format(username))"
   ]
  },
  {
   "cell_type": "code",
   "execution_count": 13,
   "metadata": {},
   "outputs": [
    {
     "name": "stdout",
     "output_type": "stream",
     "text": [
      "Registration\n",
      "++++++++++++++++++++++++++++++++++\n",
      "Enter Username to Fix: giri\n",
      "Enter Password to Fix:gi123\n",
      "+++++++++++++++++++++++++++++++++++\n",
      "Validation Process\n",
      "Enter Username: giri\n",
      "Enter Password: gi123\n",
      "Welcome User: giri\n"
     ]
    }
   ],
   "source": [
    "print(\"Registration\")\n",
    "print(\"++++++++++++++++++++++++++++++++++\")\n",
    "uname = input(\"Enter Username to Fix: \")\n",
    "pwd = input(\"Enter Password to Fix:\")\n",
    "print(\"+++++++++++++++++++++++++++++++++++\")\n",
    "print(\"Validation Process\")\n",
    "username = input(\"Enter Username: \")\n",
    "password = input(\"Enter Password: \")\n",
    "if username == uname and password == pwd:\n",
    "    print(\"Welcome User: {}\".format(username))\n",
    "else:\n",
    "    print(\"Invalid Username {} or Password\".format(username))"
   ]
  },
  {
   "cell_type": "markdown",
   "metadata": {},
   "source": [
    "```\n",
    "Task-2\n",
    "\n",
    "username: lalitha\n",
    "password: lalitha123@\n",
    "\n",
    "Test case-1\n",
    "Input: Enter Username: rakesh\n",
    "Output: Invalid Username rakesh\n",
    "\n",
    "Test case-2\n",
    "Input: Enter Username: lalitha\n",
    "       Enter Password: 123\n",
    "Output: Invalid Password\n",
    "\n",
    "Test case-3\n",
    "Input: Enter Username: lalitha\n",
    "       Enter Password: lalitha123@\n",
    "Output: Welcome User lalitha\n",
    "```"
   ]
  },
  {
   "cell_type": "code",
   "execution_count": 73,
   "metadata": {},
   "outputs": [
    {
     "name": "stdout",
     "output_type": "stream",
     "text": [
      "Enter Username: lalitha\n",
      "Enter Password: lalitha123@\n",
      "Welcome Username: lalitha\n"
     ]
    }
   ],
   "source": [
    "username = input(\"Enter Username: \")\n",
    "if username == 'lalitha':\n",
    "    password = input(\"Enter Password: \")\n",
    "    if password == 'lalitha123@':\n",
    "        print(\"Welcome Username: {}\".format(username))\n",
    "    else:\n",
    "        print(\"Invalid Password\")\n",
    "else:\n",
    "    print(\"Invalid Username {}\".format(username))"
   ]
  },
  {
   "cell_type": "code",
   "execution_count": 16,
   "metadata": {},
   "outputs": [
    {
     "name": "stdout",
     "output_type": "stream",
     "text": [
      "Registration Process:\n",
      "=============================\n",
      "Enter username to Fix: prasad\n",
      "Enter password to Fix: 1212\n",
      "=============================\n",
      "Validation Process\n",
      "-----------------------------\n",
      "Enter Username: prasad\n",
      "Enter Password: 1212\n",
      "Welcome Username: prasad\n"
     ]
    }
   ],
   "source": [
    "print(\"Registration Process:\")\n",
    "print(\"=============================\")\n",
    "uname = input(\"Enter username to Fix: \")\n",
    "passwd = input(\"Enter password to Fix: \")\n",
    "print(\"=============================\")\n",
    "print(\"Validation Process\")\n",
    "print(\"-----------------------------\")\n",
    "username = input(\"Enter Username: \")\n",
    "if username == uname:\n",
    "    password = input(\"Enter Password: \")\n",
    "    if password == passwd:\n",
    "        print(\"Welcome Username: {}\".format(username))\n",
    "    else:\n",
    "        print(\"Invalid Password\")\n",
    "else:\n",
    "    print(\"Invalid Username {}\".format(username))"
   ]
  },
  {
   "cell_type": "code",
   "execution_count": 20,
   "metadata": {},
   "outputs": [
    {
     "name": "stdout",
     "output_type": "stream",
     "text": [
      "Does not exist\n"
     ]
    }
   ],
   "source": [
    "s=\"string\"\n",
    "if('z' in s):\n",
    "    print(\"Exists\")\n",
    "else:\n",
    "    print(\"Does not exist\")"
   ]
  },
  {
   "cell_type": "markdown",
   "metadata": {},
   "source": [
    "## Loops\n",
    "    - for\n",
    "        Syntax:\n",
    "           for variable in range(start,stop,incre/decre/updation):\n",
    "               statements\n",
    "               -----\n",
    "               -----\n",
    "        "
   ]
  },
  {
   "cell_type": "code",
   "execution_count": 30,
   "metadata": {},
   "outputs": [
    {
     "name": "stdout",
     "output_type": "stream",
     "text": [
      "0 1 2 3 4 5 6 7 8 9 "
     ]
    }
   ],
   "source": [
    "for x in range(10):\n",
    "    print(x,end=' ')"
   ]
  },
  {
   "cell_type": "code",
   "execution_count": 37,
   "metadata": {},
   "outputs": [
    {
     "name": "stdout",
     "output_type": "stream",
     "text": [
      "10 9 8 7 6 5 4 3 2 1 "
     ]
    }
   ],
   "source": [
    "for x in range(10,0,-1):\n",
    "    print(x,end=' ')"
   ]
  },
  {
   "cell_type": "code",
   "execution_count": 34,
   "metadata": {},
   "outputs": [
    {
     "name": "stdout",
     "output_type": "stream",
     "text": [
      "1 3 5 7 9 11 "
     ]
    }
   ],
   "source": [
    "for x in range(1,12,2):\n",
    "    print(x,end=' ')"
   ]
  },
  {
   "cell_type": "code",
   "execution_count": 39,
   "metadata": {},
   "outputs": [
    {
     "name": "stdout",
     "output_type": "stream",
     "text": [
      "Enter starting range: 1\n",
      "Enter ending range: 20\n",
      "1 2 3 4 5 6 7 8 9 10 11 12 13 14 15 16 17 18 19 "
     ]
    }
   ],
   "source": [
    "### Forward order of natural numbers\n",
    "\n",
    "sr = int(input(\"Enter starting range: \"))\n",
    "er = int(input(\"Enter ending range: \"))\n",
    "for i in range(sr,er):\n",
    "    print(i,end=\" \")"
   ]
  },
  {
   "cell_type": "code",
   "execution_count": 72,
   "metadata": {},
   "outputs": [
    {
     "name": "stdout",
     "output_type": "stream",
     "text": [
      "Enter starting range: 10\n",
      "Enter ending range: 20\n",
      "20 19 18 17 16 15 14 13 12 11 10 "
     ]
    }
   ],
   "source": [
    "### Reverse order of natural numbers\n",
    "\n",
    "sr = int(input(\"Enter starting range: \"))\n",
    "er = int(input(\"Enter ending range: \"))\n",
    "for i in range(er,sr-1,-1):\n",
    "    print(i,end=' ')"
   ]
  },
  {
   "cell_type": "code",
   "execution_count": 45,
   "metadata": {},
   "outputs": [
    {
     "name": "stdout",
     "output_type": "stream",
     "text": [
      "1\n",
      "10\n",
      "55\n"
     ]
    }
   ],
   "source": [
    "### Natural numbers sum\n",
    "### input: 1--10\n",
    "### output: 55\n",
    "s = int(input())\n",
    "e = int(input())\n",
    "tot=0\n",
    "for i in range(s,e+1):\n",
    "    tot+=i\n",
    "print(tot)"
   ]
  },
  {
   "cell_type": "code",
   "execution_count": 51,
   "metadata": {},
   "outputs": [
    {
     "name": "stdout",
     "output_type": "stream",
     "text": [
      "1\n",
      "10\n",
      "even numbers:  2 4 6 8 10 \n",
      "Odd numbers:  1 3 5 7 9 \n",
      "even numbers sum:  30\n",
      "odd numbers sum:  25\n",
      "even number count:  5\n",
      "Odd number count:  5\n"
     ]
    }
   ],
   "source": [
    "# 1--10 \n",
    "# even numbers: 2 4 6 8 10\n",
    "# odd numbers: 1 3 5 7 9\n",
    "# even numbers sum: 30\n",
    "# odd numbers sum: 25\n",
    "# even numbers count: 5\n",
    "# odd numbers count: 5\n",
    "\n",
    "s = int(input())\n",
    "e = int(input())\n",
    "es = os = ec = oc= 0\n",
    "print(\"even numbers: \",end=' ')\n",
    "for i in range(s,e+1):\n",
    "    if(i%2==0):\n",
    "        es+=i\n",
    "        ec+=1\n",
    "        print(i,end=' ')\n",
    "print(\"\\nOdd numbers: \",end=' ')\n",
    "for i in range(s,e+1):\n",
    "    if(i%2!=0):\n",
    "        os = os+i\n",
    "        oc = oc + 1\n",
    "        print(i,end=' ')\n",
    "print(\"\\neven numbers sum: \",es)\n",
    "print(\"odd numbers sum: \",os)\n",
    "print(\"even number count: \",ec)\n",
    "print(\"Odd number count: \",oc)\n"
   ]
  },
  {
   "cell_type": "markdown",
   "metadata": {},
   "source": [
    "### Tasks"
   ]
  },
  {
   "cell_type": "markdown",
   "metadata": {},
   "source": [
    "```\n",
    "1.Factors of numbers \n",
    "\n",
    "input : 10\n",
    "output: Factors of number: 1 2 5 10\n",
    "        Factors count : 4\n",
    "\n",
    "2.Check whether the given number is prime or not\n",
    "    input: 5\n",
    "    output: Prime number\n",
    "    \n",
    "3.Check whether the given number is perfect or not\n",
    "        input: 6\n",
    "        output: Perfect\n",
    "        \n",
    "4. Print table\n",
    "       input: 5\n",
    "       output:   5*01=05\n",
    "                 5*02=10\n",
    "                 5*03=15\n",
    "                 5*04=20\n",
    "                    |\n",
    "                    |\n",
    "                 5*10=50\n",
    "   ```                 "
   ]
  },
  {
   "cell_type": "code",
   "execution_count": 70,
   "metadata": {},
   "outputs": [
    {
     "name": "stdout",
     "output_type": "stream",
     "text": [
      "10\n",
      "Factors of number:  1 2 5 10 \n",
      "Factors count:  4\n"
     ]
    }
   ],
   "source": [
    "n = int(input())\n",
    "fc = 0\n",
    "print(\"Factors of number: \",end=' ')\n",
    "for i in range(1,n+1):\n",
    "    if(n%i==0):\n",
    "        print(i,end=' ')\n",
    "        fc=fc+1\n",
    "print(\"\\nFactors count: \",fc)"
   ]
  },
  {
   "cell_type": "markdown",
   "metadata": {},
   "source": [
    "#### while\n",
    "syntax: \n",
    "\n",
    "    initialization\n",
    "    while(condition):\n",
    "        statements\n",
    "        incre/decrement\n"
   ]
  },
  {
   "cell_type": "code",
   "execution_count": 59,
   "metadata": {},
   "outputs": [
    {
     "name": "stdout",
     "output_type": "stream",
     "text": [
      "1 2 3 4 5 6 7 8 9 10 "
     ]
    }
   ],
   "source": [
    "i=1\n",
    "while(i<=10):\n",
    "    print(i,end=\" \")\n",
    "    i=i+1"
   ]
  },
  {
   "cell_type": "code",
   "execution_count": null,
   "metadata": {},
   "outputs": [],
   "source": [
    "i=10\n",
    "while(i>=1):\n",
    "    print(i,end=' ')\n",
    "    i=i-1"
   ]
  },
  {
   "cell_type": "code",
   "execution_count": 63,
   "metadata": {},
   "outputs": [
    {
     "name": "stdout",
     "output_type": "stream",
     "text": [
      "20\n",
      "1 2 3 4 5 6 7 8 9 10 11 12 13 14 15 16 17 18 19 20 "
     ]
    }
   ],
   "source": [
    "# input: 10\n",
    "# output: 1 2 3 4 5 6 7 8 9 10\n",
    "n=int(input())\n",
    "i=1\n",
    "while(i<=n):\n",
    "    print(i,end=' ')\n",
    "    i=i+1"
   ]
  },
  {
   "cell_type": "code",
   "execution_count": 62,
   "metadata": {},
   "outputs": [
    {
     "name": "stdout",
     "output_type": "stream",
     "text": [
      "Jkdhjdr\n",
      "jdhrueht\n",
      "dkjiejr\n",
      "djrioheior\n",
      "jdirjeirj\n",
      "EXIT\n"
     ]
    }
   ],
   "source": [
    "# Indefinite while \n",
    "while(True):\n",
    "    a=input()\n",
    "    if(a=='EXIT'):\n",
    "        break\n",
    "    "
   ]
  },
  {
   "cell_type": "code",
   "execution_count": 67,
   "metadata": {},
   "outputs": [
    {
     "name": "stdout",
     "output_type": "stream",
     "text": [
      "1235\n",
      "digit count=  4\n"
     ]
    }
   ],
   "source": [
    "# Reverse of a number and its digit count\n",
    "#input:  1235\n",
    "#output : digit count=4\n",
    "n=int(input())\n",
    "c=0\n",
    "while(n>0):\n",
    "    n=n//10 #1235//10=123   123//10=12  12//10=1  1//10=0\n",
    "    c+=1    # c=1            c=2          c=3      c=4         \n",
    "print(\"digit count= \",c)"
   ]
  },
  {
   "cell_type": "code",
   "execution_count": 69,
   "metadata": {},
   "outputs": [
    {
     "name": "stdout",
     "output_type": "stream",
     "text": [
      "5678\n",
      "reverse= 8765\n"
     ]
    }
   ],
   "source": [
    "# Reverse of a number\n",
    "# input: 5678\n",
    "# output: 8765\n",
    "\n",
    "n=int(input())\n",
    "rev=0\n",
    "while(n>0):\n",
    "    rem=n%10  # 5678%10=8        567%10=7     56%10=6      5%10=5\n",
    "    rev=rev*10+rem # 0*10+8=8    8*10+7=87    87*10+6=876  876*10+5=8765\n",
    "    n=n//10      # 5678//10=567  567//10=56   56//10=5      5//10=0\n",
    "print(\"reverse=\",rev)"
   ]
  },
  {
   "cell_type": "markdown",
   "metadata": {},
   "source": [
    "```\n",
    "Task-5:\n",
    "    \n",
    "input: 121\n",
    "output: Palindrome\n",
    "input: 145\n",
    "output: Not Palindrome\n",
    "```"
   ]
  },
  {
   "cell_type": "markdown",
   "metadata": {},
   "source": [
    "```\n",
    "Task-6:\n",
    "Input: 123123721673514\n",
    "\n",
    "Output: 22264\n",
    "```"
   ]
  },
  {
   "cell_type": "code",
   "execution_count": 77,
   "metadata": {},
   "outputs": [
    {
     "name": "stdout",
     "output_type": "stream",
     "text": [
      "123456\n",
      "246\n"
     ]
    }
   ],
   "source": [
    "n = input()\n",
    "s=\"\"\n",
    "for i in n:\n",
    "    if int(i)%2==0:\n",
    "        s+=i\n",
    "print(s)"
   ]
  },
  {
   "cell_type": "code",
   "execution_count": null,
   "metadata": {},
   "outputs": [],
   "source": []
  }
 ],
 "metadata": {
  "kernelspec": {
   "display_name": "Python 3",
   "language": "python",
   "name": "python3"
  },
  "language_info": {
   "codemirror_mode": {
    "name": "ipython",
    "version": 3
   },
   "file_extension": ".py",
   "mimetype": "text/x-python",
   "name": "python",
   "nbconvert_exporter": "python",
   "pygments_lexer": "ipython3",
   "version": "3.7.4"
  }
 },
 "nbformat": 4,
 "nbformat_minor": 2
}
